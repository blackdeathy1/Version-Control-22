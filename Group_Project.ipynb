{
 "cells": [
  {
   "cell_type": "code",
   "execution_count": null,
   "id": "3f4a016f",
   "metadata": {},
   "outputs": [],
   "source": [
    "from datetime import date, datetime\n",
    "\n",
    "# Prompting for user inputs\n",
    "\n",
    "name = input(\"What is your name? \")\n",
    "birthday_n = input(\"Please enter your birthday! (Month-Day, Ex: 1-2 for January 2nd)\")\n",
    "\n",
    "# Converts the input into a date, so it can be used properly later\n",
    "\n",
    "month, day = map(int, birthday_n.split(\"-\"))\n",
    "today = date.today()\n",
    "birthday = date(today.year, month, day)\n",
    "\n",
    "# Accounting for the fact that some people's birthday's may have already passed\n",
    "\n",
    "if birthday < today:\n",
    "    birthday = date(today.year + 1, month, day)\n",
    "\n",
    "#Calculation days left \n",
    "days_left = (birthday - today).days\n",
    "\n",
    "#output\n",
    "if days_left == 0:\n",
    "    print(f\" Happy Birthday, {name}!  Hope you have an amazing day!\")\n",
    "else:\n",
    "    print(f\"{name}, your birthday is in {days_left} days! Hang tight - it's coming soon.\") #i added birthday if its thier birthday, and what if its not thier birthday. \n",
    "\n",
    "\n"
   ]
  }
 ],
 "metadata": {
  "kernelspec": {
   "display_name": "Python 3",
   "language": "python",
   "name": "python3"
  },
  "language_info": {
   "codemirror_mode": {
    "name": "ipython",
    "version": 3
   },
   "file_extension": ".py",
   "mimetype": "text/x-python",
   "name": "python",
   "nbconvert_exporter": "python",
   "pygments_lexer": "ipython3",
   "version": "3.11.9"
  }
 },
 "nbformat": 4,
 "nbformat_minor": 5
}
